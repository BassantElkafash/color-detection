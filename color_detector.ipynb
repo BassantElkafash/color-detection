{
 "cells": [
  {
   "cell_type": "code",
   "execution_count": 2,
   "id": "9d73d890",
   "metadata": {},
   "outputs": [],
   "source": [
    "import cv2"
   ]
  },
  {
   "cell_type": "code",
   "execution_count": 2,
   "id": "c5a190eb",
   "metadata": {},
   "outputs": [
    {
     "ename": "error",
     "evalue": "OpenCV(4.6.0) D:\\a\\opencv-python\\opencv-python\\opencv\\modules\\highgui\\src\\window.cpp:967: error: (-215:Assertion failed) size.width>0 && size.height>0 in function 'cv::imshow'\n",
     "output_type": "error",
     "traceback": [
      "\u001b[1;31m---------------------------------------------------------------------------\u001b[0m",
      "\u001b[1;31merror\u001b[0m                                     Traceback (most recent call last)",
      "Cell \u001b[1;32mIn[2], line 2\u001b[0m\n\u001b[0;32m      1\u001b[0m img \u001b[38;5;241m=\u001b[39m cv2\u001b[38;5;241m.\u001b[39mimread(\u001b[38;5;124m'\u001b[39m\u001b[38;5;124mD:\u001b[39m\u001b[38;5;130;01m\\\\\u001b[39;00m\u001b[38;5;124mcolors\u001b[39m\u001b[38;5;130;01m\\\\\u001b[39;00m\u001b[38;5;124mred.jpg\u001b[39m\u001b[38;5;124m'\u001b[39m)\n\u001b[1;32m----> 2\u001b[0m \u001b[43mcv2\u001b[49m\u001b[38;5;241;43m.\u001b[39;49m\u001b[43mimshow\u001b[49m\u001b[43m(\u001b[49m\u001b[38;5;124;43m'\u001b[39;49m\u001b[38;5;124;43mimage\u001b[39;49m\u001b[38;5;124;43m'\u001b[39;49m\u001b[43m,\u001b[49m\u001b[43mimg\u001b[49m\u001b[43m)\u001b[49m\n\u001b[0;32m      3\u001b[0m cv2\u001b[38;5;241m.\u001b[39mwaitKey(\u001b[38;5;241m0\u001b[39m)\n",
      "\u001b[1;31merror\u001b[0m: OpenCV(4.6.0) D:\\a\\opencv-python\\opencv-python\\opencv\\modules\\highgui\\src\\window.cpp:967: error: (-215:Assertion failed) size.width>0 && size.height>0 in function 'cv::imshow'\n"
     ]
    }
   ],
   "source": [
    "img = cv2.imread('D:\\\\colors\\\\red.jpg')\n",
    "cv2.imshow('image',img)\n",
    "cv2.waitKey(0)\n"
   ]
  },
  {
   "cell_type": "code",
   "execution_count": 3,
   "id": "e529a28c",
   "metadata": {},
   "outputs": [
    {
     "ename": "error",
     "evalue": "OpenCV(4.6.0) D:\\a\\opencv-python\\opencv-python\\opencv\\modules\\imgproc\\src\\color.cpp:182: error: (-215:Assertion failed) !_src.empty() in function 'cv::cvtColor'\n",
     "output_type": "error",
     "traceback": [
      "\u001b[1;31m---------------------------------------------------------------------------\u001b[0m",
      "\u001b[1;31merror\u001b[0m                                     Traceback (most recent call last)",
      "Cell \u001b[1;32mIn[3], line 13\u001b[0m\n\u001b[0;32m     11\u001b[0m     _,frame \u001b[38;5;241m=\u001b[39m cam\u001b[38;5;241m.\u001b[39mread()\n\u001b[0;32m     12\u001b[0m \u001b[38;5;66;03m#     from bgr to hsv\u001b[39;00m\n\u001b[1;32m---> 13\u001b[0m     hsv_frame \u001b[38;5;241m=\u001b[39m \u001b[43mcv2\u001b[49m\u001b[38;5;241;43m.\u001b[39;49m\u001b[43mcvtColor\u001b[49m\u001b[43m(\u001b[49m\u001b[43mframe\u001b[49m\u001b[43m,\u001b[49m\u001b[43m \u001b[49m\u001b[43mcv2\u001b[49m\u001b[38;5;241;43m.\u001b[39;49m\u001b[43mCOLOR_BGR2HSV\u001b[49m\u001b[43m)\u001b[49m\n\u001b[0;32m     14\u001b[0m     height, width, _ \u001b[38;5;241m=\u001b[39m hsv_frame\u001b[38;5;241m.\u001b[39mshape\n\u001b[0;32m     16\u001b[0m     x \u001b[38;5;241m=\u001b[39m \u001b[38;5;28mint\u001b[39m(width \u001b[38;5;241m/\u001b[39m \u001b[38;5;241m2\u001b[39m)\n",
      "\u001b[1;31merror\u001b[0m: OpenCV(4.6.0) D:\\a\\opencv-python\\opencv-python\\opencv\\modules\\imgproc\\src\\color.cpp:182: error: (-215:Assertion failed) !_src.empty() in function 'cv::cvtColor'\n"
     ]
    }
   ],
   "source": [
    "cam = cv2.VideoCapture(0)\n",
    "\n",
    "# dimentions of frame\n",
    "cam.set(cv2.CAP_PROP_FRAME_WIDTH, 720)\n",
    "cam.set(cv2.CAP_PROP_FRAME_HEIGHT, 720)\n",
    "\n",
    "color = 'undefined'\n",
    "\n",
    "while True:   \n",
    "    \n",
    "    _,frame = cam.read()\n",
    "#     from bgr to hsv\n",
    "    hsv_frame = cv2.cvtColor(frame, cv2.COLOR_BGR2HSV)\n",
    "    height, width, _ = hsv_frame.shape\n",
    "    \n",
    "    x = int(width / 2)\n",
    "    y = int(height / 2)\n",
    "    \n",
    "    center = hsv_frame[y,x]\n",
    "    \n",
    "    hue = center[0]\n",
    "    sat = center[1]\n",
    "    val = center[2]\n",
    "    \n",
    "#  ranges of colors\n",
    "    if hue == 0 and val <=65:\n",
    "        color = 'black'\n",
    "        \n",
    "    elif hue < 5 :\n",
    "        color = 'red'\n",
    "        \n",
    "    elif hue <= 22:\n",
    "        color = 'orange'\n",
    "        \n",
    "    elif hue <= 32:\n",
    "        color = 'yellow'\n",
    "                \n",
    "    elif hue <= 78:\n",
    "        color = 'green'\n",
    "            \n",
    "    elif hue <= 131:\n",
    "        color = 'blue'\n",
    "             \n",
    "    elif hue <= 170:\n",
    "        color = 'purple'\n",
    "    \n",
    "        \n",
    "    print(center)\n",
    "#    center pixel in bgr \n",
    "    pixel_center = frame[y, x]\n",
    "    b, g, r = int(pixel_center[0]), int(pixel_center[1]), int(pixel_center[2])\n",
    "#     ...,color, pos of title, font, size of title, color of title\n",
    "    cv2.putText(frame, color, (10,50), 0, 1, (b,g,r), 2)\n",
    "    \n",
    "    cv2.circle(frame, (x,y), 5, (255,0,0),3)\n",
    "    \n",
    "    cv2.imshow('Frame',frame)\n",
    "    key = cv2.waitKey(1)\n",
    "    \n",
    "    if key == 27:\n",
    "        break\n",
    "        \n",
    "cam.release()\n",
    "cv2.destroyAllWindows()"
   ]
  },
  {
   "cell_type": "code",
   "execution_count": 15,
   "id": "26cda947",
   "metadata": {},
   "outputs": [],
   "source": [
    "import numpy as np\n",
    "a = np.array([1, 2, 3])"
   ]
  },
  {
   "cell_type": "code",
   "execution_count": 16,
   "id": "e9f82960",
   "metadata": {},
   "outputs": [
    {
     "data": {
      "text/plain": [
       "True"
      ]
     },
     "execution_count": 16,
     "metadata": {},
     "output_type": "execute_result"
    }
   ],
   "source": [
    "a.all()"
   ]
  },
  {
   "cell_type": "code",
   "execution_count": null,
   "id": "147950ce",
   "metadata": {},
   "outputs": [],
   "source": []
  }
 ],
 "metadata": {
  "kernelspec": {
   "display_name": "Python 3 (ipykernel)",
   "language": "python",
   "name": "python3"
  },
  "language_info": {
   "codemirror_mode": {
    "name": "ipython",
    "version": 3
   },
   "file_extension": ".py",
   "mimetype": "text/x-python",
   "name": "python",
   "nbconvert_exporter": "python",
   "pygments_lexer": "ipython3",
   "version": "3.9.6"
  }
 },
 "nbformat": 4,
 "nbformat_minor": 5
}
